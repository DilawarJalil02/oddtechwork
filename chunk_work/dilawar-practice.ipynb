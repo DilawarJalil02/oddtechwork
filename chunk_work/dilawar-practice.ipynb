{
 "cells": [
  {
   "cell_type": "code",
   "execution_count": 1,
   "id": "32959687",
   "metadata": {},
   "outputs": [],
   "source": [
    "import pandas as pd"
   ]
  },
  {
   "cell_type": "code",
   "execution_count": 2,
   "id": "93e7d7b2",
   "metadata": {},
   "outputs": [],
   "source": [
    "df = pd.read_excel('sample file.xlsx')"
   ]
  },
  {
   "cell_type": "code",
   "execution_count": 3,
   "id": "bd84f488",
   "metadata": {},
   "outputs": [
    {
     "data": {
      "text/html": [
       "<div>\n",
       "<style scoped>\n",
       "    .dataframe tbody tr th:only-of-type {\n",
       "        vertical-align: middle;\n",
       "    }\n",
       "\n",
       "    .dataframe tbody tr th {\n",
       "        vertical-align: top;\n",
       "    }\n",
       "\n",
       "    .dataframe thead th {\n",
       "        text-align: right;\n",
       "    }\n",
       "</style>\n",
       "<table border=\"1\" class=\"dataframe\">\n",
       "  <thead>\n",
       "    <tr style=\"text-align: right;\">\n",
       "      <th></th>\n",
       "      <th>data.timestamp</th>\n",
       "      <th>data.number</th>\n",
       "      <th>data.application</th>\n",
       "      <th>data.id</th>\n",
       "      <th>data.rawTranscriptions</th>\n",
       "      <th>Unnamed: 5</th>\n",
       "    </tr>\n",
       "  </thead>\n",
       "  <tbody>\n",
       "    <tr>\n",
       "      <th>0</th>\n",
       "      <td>2021-08-26T17:47:13.727+0000</td>\n",
       "      <td>2039297081</td>\n",
       "      <td>ARI6</td>\n",
       "      <td>1.630000e+09</td>\n",
       "      <td>[\"number to reach us\",\"simply hang up\"]</td>\n",
       "      <td>NaN</td>\n",
       "    </tr>\n",
       "    <tr>\n",
       "      <th>1</th>\n",
       "      <td>2021-08-26T17:47:14.822+0000</td>\n",
       "      <td>2063627417</td>\n",
       "      <td>ARI6</td>\n",
       "      <td>1.630000e+09</td>\n",
       "      <td>[\"at the tone please record your message\",\"to ...</td>\n",
       "      <td>NaN</td>\n",
       "    </tr>\n",
       "    <tr>\n",
       "      <th>2</th>\n",
       "      <td>2021-08-26T17:47:18.258+0000</td>\n",
       "      <td>2127376754</td>\n",
       "      <td>ARI7</td>\n",
       "      <td>1.630000e+09</td>\n",
       "      <td>[\"hello\"]</td>\n",
       "      <td>NaN</td>\n",
       "    </tr>\n",
       "    <tr>\n",
       "      <th>3</th>\n",
       "      <td>2021-08-26T17:47:18.514+0000</td>\n",
       "      <td>2524922696</td>\n",
       "      <td>ARI7</td>\n",
       "      <td>1.630000e+09</td>\n",
       "      <td>[\"so it did\",\"but of what\",\"okay\"]</td>\n",
       "      <td>NaN</td>\n",
       "    </tr>\n",
       "    <tr>\n",
       "      <th>4</th>\n",
       "      <td>2021-08-26T17:47:19.214+0000</td>\n",
       "      <td>2056317414</td>\n",
       "      <td>ARI6</td>\n",
       "      <td>1.630000e+09</td>\n",
       "      <td>[\"right back available well pick up it back to...</td>\n",
       "      <td>NaN</td>\n",
       "    </tr>\n",
       "    <tr>\n",
       "      <th>5</th>\n",
       "      <td>2021-08-26T17:47:20.029+0000</td>\n",
       "      <td>8602280129</td>\n",
       "      <td>ARI6</td>\n",
       "      <td>1.630000e+09</td>\n",
       "      <td>[\"oh are you im trying\",\"sure just in for you\"...</td>\n",
       "      <td>NaN</td>\n",
       "    </tr>\n",
       "    <tr>\n",
       "      <th>6</th>\n",
       "      <td>2021-08-26T17:47:20.571+0000</td>\n",
       "      <td>2032612349</td>\n",
       "      <td>ARI6</td>\n",
       "      <td>1.630000e+09</td>\n",
       "      <td>[\"well\"]</td>\n",
       "      <td>NaN</td>\n",
       "    </tr>\n",
       "    <tr>\n",
       "      <th>7</th>\n",
       "      <td>2021-08-26T17:47:20.849+0000</td>\n",
       "      <td>7186662547</td>\n",
       "      <td>ARI7</td>\n",
       "      <td>1.630000e+09</td>\n",
       "      <td>[\"hello\"]</td>\n",
       "      <td>NaN</td>\n",
       "    </tr>\n",
       "    <tr>\n",
       "      <th>8</th>\n",
       "      <td>2021-08-26T17:47:21.283+0000</td>\n",
       "      <td>9362543076</td>\n",
       "      <td>ARI6</td>\n",
       "      <td>1.630000e+09</td>\n",
       "      <td>[\"thats it\"]</td>\n",
       "      <td>NaN</td>\n",
       "    </tr>\n",
       "    <tr>\n",
       "      <th>9</th>\n",
       "      <td>2021-08-26T17:47:21.768+0000</td>\n",
       "      <td>2707823623</td>\n",
       "      <td>ARI7</td>\n",
       "      <td>1.630000e+09</td>\n",
       "      <td>[\"what do you want\",\"remove this number from t...</td>\n",
       "      <td>NaN</td>\n",
       "    </tr>\n",
       "  </tbody>\n",
       "</table>\n",
       "</div>"
      ],
      "text/plain": [
       "                 data.timestamp  data.number data.application       data.id  \\\n",
       "0  2021-08-26T17:47:13.727+0000   2039297081             ARI6  1.630000e+09   \n",
       "1  2021-08-26T17:47:14.822+0000   2063627417             ARI6  1.630000e+09   \n",
       "2  2021-08-26T17:47:18.258+0000   2127376754             ARI7  1.630000e+09   \n",
       "3  2021-08-26T17:47:18.514+0000   2524922696             ARI7  1.630000e+09   \n",
       "4  2021-08-26T17:47:19.214+0000   2056317414             ARI6  1.630000e+09   \n",
       "5  2021-08-26T17:47:20.029+0000   8602280129             ARI6  1.630000e+09   \n",
       "6  2021-08-26T17:47:20.571+0000   2032612349             ARI6  1.630000e+09   \n",
       "7  2021-08-26T17:47:20.849+0000   7186662547             ARI7  1.630000e+09   \n",
       "8  2021-08-26T17:47:21.283+0000   9362543076             ARI6  1.630000e+09   \n",
       "9  2021-08-26T17:47:21.768+0000   2707823623             ARI7  1.630000e+09   \n",
       "\n",
       "                              data.rawTranscriptions  Unnamed: 5  \n",
       "0            [\"number to reach us\",\"simply hang up\"]         NaN  \n",
       "1  [\"at the tone please record your message\",\"to ...         NaN  \n",
       "2                                          [\"hello\"]         NaN  \n",
       "3                 [\"so it did\",\"but of what\",\"okay\"]         NaN  \n",
       "4  [\"right back available well pick up it back to...         NaN  \n",
       "5  [\"oh are you im trying\",\"sure just in for you\"...         NaN  \n",
       "6                                           [\"well\"]         NaN  \n",
       "7                                          [\"hello\"]         NaN  \n",
       "8                                       [\"thats it\"]         NaN  \n",
       "9  [\"what do you want\",\"remove this number from t...         NaN  "
      ]
     },
     "execution_count": 3,
     "metadata": {},
     "output_type": "execute_result"
    }
   ],
   "source": [
    "df.head(10)"
   ]
  },
  {
   "cell_type": "code",
   "execution_count": 4,
   "id": "6eb7cfc2",
   "metadata": {},
   "outputs": [
    {
     "data": {
      "text/html": [
       "<div>\n",
       "<style scoped>\n",
       "    .dataframe tbody tr th:only-of-type {\n",
       "        vertical-align: middle;\n",
       "    }\n",
       "\n",
       "    .dataframe tbody tr th {\n",
       "        vertical-align: top;\n",
       "    }\n",
       "\n",
       "    .dataframe thead th {\n",
       "        text-align: right;\n",
       "    }\n",
       "</style>\n",
       "<table border=\"1\" class=\"dataframe\">\n",
       "  <thead>\n",
       "    <tr style=\"text-align: right;\">\n",
       "      <th></th>\n",
       "      <th>data.timestamp</th>\n",
       "      <th>data.number</th>\n",
       "      <th>data.application</th>\n",
       "      <th>data.id</th>\n",
       "      <th>data.rawTranscriptions</th>\n",
       "    </tr>\n",
       "  </thead>\n",
       "  <tbody>\n",
       "    <tr>\n",
       "      <th>0</th>\n",
       "      <td>2021-08-26T17:47:13.727+0000</td>\n",
       "      <td>2039297081</td>\n",
       "      <td>ARI6</td>\n",
       "      <td>1.630000e+09</td>\n",
       "      <td>[\"number to reach us\",\"simply hang up\"]</td>\n",
       "    </tr>\n",
       "    <tr>\n",
       "      <th>1</th>\n",
       "      <td>2021-08-26T17:47:14.822+0000</td>\n",
       "      <td>2063627417</td>\n",
       "      <td>ARI6</td>\n",
       "      <td>1.630000e+09</td>\n",
       "      <td>[\"at the tone please record your message\",\"to ...</td>\n",
       "    </tr>\n",
       "    <tr>\n",
       "      <th>2</th>\n",
       "      <td>2021-08-26T17:47:18.258+0000</td>\n",
       "      <td>2127376754</td>\n",
       "      <td>ARI7</td>\n",
       "      <td>1.630000e+09</td>\n",
       "      <td>[\"hello\"]</td>\n",
       "    </tr>\n",
       "    <tr>\n",
       "      <th>3</th>\n",
       "      <td>2021-08-26T17:47:18.514+0000</td>\n",
       "      <td>2524922696</td>\n",
       "      <td>ARI7</td>\n",
       "      <td>1.630000e+09</td>\n",
       "      <td>[\"so it did\",\"but of what\",\"okay\"]</td>\n",
       "    </tr>\n",
       "    <tr>\n",
       "      <th>4</th>\n",
       "      <td>2021-08-26T17:47:19.214+0000</td>\n",
       "      <td>2056317414</td>\n",
       "      <td>ARI6</td>\n",
       "      <td>1.630000e+09</td>\n",
       "      <td>[\"right back available well pick up it back to...</td>\n",
       "    </tr>\n",
       "    <tr>\n",
       "      <th>5</th>\n",
       "      <td>2021-08-26T17:47:20.029+0000</td>\n",
       "      <td>8602280129</td>\n",
       "      <td>ARI6</td>\n",
       "      <td>1.630000e+09</td>\n",
       "      <td>[\"oh are you im trying\",\"sure just in for you\"...</td>\n",
       "    </tr>\n",
       "    <tr>\n",
       "      <th>6</th>\n",
       "      <td>2021-08-26T17:47:20.571+0000</td>\n",
       "      <td>2032612349</td>\n",
       "      <td>ARI6</td>\n",
       "      <td>1.630000e+09</td>\n",
       "      <td>[\"well\"]</td>\n",
       "    </tr>\n",
       "    <tr>\n",
       "      <th>7</th>\n",
       "      <td>2021-08-26T17:47:20.849+0000</td>\n",
       "      <td>7186662547</td>\n",
       "      <td>ARI7</td>\n",
       "      <td>1.630000e+09</td>\n",
       "      <td>[\"hello\"]</td>\n",
       "    </tr>\n",
       "    <tr>\n",
       "      <th>8</th>\n",
       "      <td>2021-08-26T17:47:21.283+0000</td>\n",
       "      <td>9362543076</td>\n",
       "      <td>ARI6</td>\n",
       "      <td>1.630000e+09</td>\n",
       "      <td>[\"thats it\"]</td>\n",
       "    </tr>\n",
       "    <tr>\n",
       "      <th>9</th>\n",
       "      <td>2021-08-26T17:47:21.768+0000</td>\n",
       "      <td>2707823623</td>\n",
       "      <td>ARI7</td>\n",
       "      <td>1.630000e+09</td>\n",
       "      <td>[\"what do you want\",\"remove this number from t...</td>\n",
       "    </tr>\n",
       "  </tbody>\n",
       "</table>\n",
       "</div>"
      ],
      "text/plain": [
       "                 data.timestamp  data.number data.application       data.id  \\\n",
       "0  2021-08-26T17:47:13.727+0000   2039297081             ARI6  1.630000e+09   \n",
       "1  2021-08-26T17:47:14.822+0000   2063627417             ARI6  1.630000e+09   \n",
       "2  2021-08-26T17:47:18.258+0000   2127376754             ARI7  1.630000e+09   \n",
       "3  2021-08-26T17:47:18.514+0000   2524922696             ARI7  1.630000e+09   \n",
       "4  2021-08-26T17:47:19.214+0000   2056317414             ARI6  1.630000e+09   \n",
       "5  2021-08-26T17:47:20.029+0000   8602280129             ARI6  1.630000e+09   \n",
       "6  2021-08-26T17:47:20.571+0000   2032612349             ARI6  1.630000e+09   \n",
       "7  2021-08-26T17:47:20.849+0000   7186662547             ARI7  1.630000e+09   \n",
       "8  2021-08-26T17:47:21.283+0000   9362543076             ARI6  1.630000e+09   \n",
       "9  2021-08-26T17:47:21.768+0000   2707823623             ARI7  1.630000e+09   \n",
       "\n",
       "                              data.rawTranscriptions  \n",
       "0            [\"number to reach us\",\"simply hang up\"]  \n",
       "1  [\"at the tone please record your message\",\"to ...  \n",
       "2                                          [\"hello\"]  \n",
       "3                 [\"so it did\",\"but of what\",\"okay\"]  \n",
       "4  [\"right back available well pick up it back to...  \n",
       "5  [\"oh are you im trying\",\"sure just in for you\"...  \n",
       "6                                           [\"well\"]  \n",
       "7                                          [\"hello\"]  \n",
       "8                                       [\"thats it\"]  \n",
       "9  [\"what do you want\",\"remove this number from t...  "
      ]
     },
     "execution_count": 4,
     "metadata": {},
     "output_type": "execute_result"
    }
   ],
   "source": [
    "df = df.iloc[: , :-1]\n",
    "\n",
    "df.head(10)"
   ]
  },
  {
   "cell_type": "code",
   "execution_count": 5,
   "id": "80333359",
   "metadata": {},
   "outputs": [
    {
     "data": {
      "text/plain": [
       "'[\"number to reach us\",\"simply hang up\"]'"
      ]
     },
     "execution_count": 5,
     "metadata": {},
     "output_type": "execute_result"
    }
   ],
   "source": [
    "df['data.rawTranscriptions'][0]"
   ]
  },
  {
   "cell_type": "code",
   "execution_count": 6,
   "id": "48efbdab",
   "metadata": {},
   "outputs": [
    {
     "data": {
      "text/plain": [
       "0            [[\"number to reach us\", \"simply hang up\"]]\n",
       "1     [[\"at the tone please record your message\", \"t...\n",
       "2                                           [[\"hello\"]]\n",
       "3                [[\"so it did\", \"but of what\", \"okay\"]]\n",
       "4     [[\"right back available well pick up it back t...\n",
       "                            ...                        \n",
       "95                                    [[\"soon as box\"]]\n",
       "96    [[\"members will return your call just as soon ...\n",
       "97        [[\"after the beep we will return your call\"]]\n",
       "98                                             [[\"oh\"]]\n",
       "99             [[\"hello\", \"no i dont today thank you\"]]\n",
       "Name: data.rawTranscriptions, Length: 100, dtype: object"
      ]
     },
     "execution_count": 6,
     "metadata": {},
     "output_type": "execute_result"
    }
   ],
   "source": [
    "df['data.rawTranscriptions'].str.split(',')"
   ]
  },
  {
   "cell_type": "code",
   "execution_count": 7,
   "id": "0a3024bb",
   "metadata": {},
   "outputs": [
    {
     "data": {
      "text/plain": [
       "dtype('O')"
      ]
     },
     "execution_count": 7,
     "metadata": {},
     "output_type": "execute_result"
    }
   ],
   "source": [
    "df['data.rawTranscriptions'].dtype"
   ]
  },
  {
   "cell_type": "code",
   "execution_count": 12,
   "id": "a025dd6f",
   "metadata": {},
   "outputs": [
    {
     "ename": "TypeError",
     "evalue": "data type 'list' not understood",
     "output_type": "error",
     "traceback": [
      "\u001b[1;31m---------------------------------------------------------------------------\u001b[0m",
      "\u001b[1;31mTypeError\u001b[0m                                 Traceback (most recent call last)",
      "\u001b[1;32m<ipython-input-12-803af35dd2a4>\u001b[0m in \u001b[0;36m<module>\u001b[1;34m\u001b[0m\n\u001b[1;32m----> 1\u001b[1;33m \u001b[0mdf\u001b[0m\u001b[1;33m[\u001b[0m\u001b[1;34m'data.rawTranscriptions'\u001b[0m\u001b[1;33m]\u001b[0m\u001b[1;33m.\u001b[0m\u001b[0mastype\u001b[0m\u001b[1;33m(\u001b[0m\u001b[1;34m'list'\u001b[0m\u001b[1;33m)\u001b[0m\u001b[1;33m\u001b[0m\u001b[1;33m\u001b[0m\u001b[0m\n\u001b[0m",
      "\u001b[1;32m~\\Anaconda3\\lib\\site-packages\\pandas\\core\\generic.py\u001b[0m in \u001b[0;36mastype\u001b[1;34m(self, dtype, copy, errors)\u001b[0m\n\u001b[0;32m   5875\u001b[0m         \u001b[1;32melse\u001b[0m\u001b[1;33m:\u001b[0m\u001b[1;33m\u001b[0m\u001b[1;33m\u001b[0m\u001b[0m\n\u001b[0;32m   5876\u001b[0m             \u001b[1;31m# else, only a single dtype is given\u001b[0m\u001b[1;33m\u001b[0m\u001b[1;33m\u001b[0m\u001b[1;33m\u001b[0m\u001b[0m\n\u001b[1;32m-> 5877\u001b[1;33m             \u001b[0mnew_data\u001b[0m \u001b[1;33m=\u001b[0m \u001b[0mself\u001b[0m\u001b[1;33m.\u001b[0m\u001b[0m_mgr\u001b[0m\u001b[1;33m.\u001b[0m\u001b[0mastype\u001b[0m\u001b[1;33m(\u001b[0m\u001b[0mdtype\u001b[0m\u001b[1;33m=\u001b[0m\u001b[0mdtype\u001b[0m\u001b[1;33m,\u001b[0m \u001b[0mcopy\u001b[0m\u001b[1;33m=\u001b[0m\u001b[0mcopy\u001b[0m\u001b[1;33m,\u001b[0m \u001b[0merrors\u001b[0m\u001b[1;33m=\u001b[0m\u001b[0merrors\u001b[0m\u001b[1;33m)\u001b[0m\u001b[1;33m\u001b[0m\u001b[1;33m\u001b[0m\u001b[0m\n\u001b[0m\u001b[0;32m   5878\u001b[0m             \u001b[1;32mreturn\u001b[0m \u001b[0mself\u001b[0m\u001b[1;33m.\u001b[0m\u001b[0m_constructor\u001b[0m\u001b[1;33m(\u001b[0m\u001b[0mnew_data\u001b[0m\u001b[1;33m)\u001b[0m\u001b[1;33m.\u001b[0m\u001b[0m__finalize__\u001b[0m\u001b[1;33m(\u001b[0m\u001b[0mself\u001b[0m\u001b[1;33m,\u001b[0m \u001b[0mmethod\u001b[0m\u001b[1;33m=\u001b[0m\u001b[1;34m\"astype\"\u001b[0m\u001b[1;33m)\u001b[0m\u001b[1;33m\u001b[0m\u001b[1;33m\u001b[0m\u001b[0m\n\u001b[0;32m   5879\u001b[0m \u001b[1;33m\u001b[0m\u001b[0m\n",
      "\u001b[1;32m~\\Anaconda3\\lib\\site-packages\\pandas\\core\\internals\\managers.py\u001b[0m in \u001b[0;36mastype\u001b[1;34m(self, dtype, copy, errors)\u001b[0m\n\u001b[0;32m    629\u001b[0m         \u001b[0mself\u001b[0m\u001b[1;33m,\u001b[0m \u001b[0mdtype\u001b[0m\u001b[1;33m,\u001b[0m \u001b[0mcopy\u001b[0m\u001b[1;33m:\u001b[0m \u001b[0mbool\u001b[0m \u001b[1;33m=\u001b[0m \u001b[1;32mFalse\u001b[0m\u001b[1;33m,\u001b[0m \u001b[0merrors\u001b[0m\u001b[1;33m:\u001b[0m \u001b[0mstr\u001b[0m \u001b[1;33m=\u001b[0m \u001b[1;34m\"raise\"\u001b[0m\u001b[1;33m\u001b[0m\u001b[1;33m\u001b[0m\u001b[0m\n\u001b[0;32m    630\u001b[0m     ) -> \"BlockManager\":\n\u001b[1;32m--> 631\u001b[1;33m         \u001b[1;32mreturn\u001b[0m \u001b[0mself\u001b[0m\u001b[1;33m.\u001b[0m\u001b[0mapply\u001b[0m\u001b[1;33m(\u001b[0m\u001b[1;34m\"astype\"\u001b[0m\u001b[1;33m,\u001b[0m \u001b[0mdtype\u001b[0m\u001b[1;33m=\u001b[0m\u001b[0mdtype\u001b[0m\u001b[1;33m,\u001b[0m \u001b[0mcopy\u001b[0m\u001b[1;33m=\u001b[0m\u001b[0mcopy\u001b[0m\u001b[1;33m,\u001b[0m \u001b[0merrors\u001b[0m\u001b[1;33m=\u001b[0m\u001b[0merrors\u001b[0m\u001b[1;33m)\u001b[0m\u001b[1;33m\u001b[0m\u001b[1;33m\u001b[0m\u001b[0m\n\u001b[0m\u001b[0;32m    632\u001b[0m \u001b[1;33m\u001b[0m\u001b[0m\n\u001b[0;32m    633\u001b[0m     def convert(\n",
      "\u001b[1;32m~\\Anaconda3\\lib\\site-packages\\pandas\\core\\internals\\managers.py\u001b[0m in \u001b[0;36mapply\u001b[1;34m(self, f, align_keys, ignore_failures, **kwargs)\u001b[0m\n\u001b[0;32m    425\u001b[0m                     \u001b[0mapplied\u001b[0m \u001b[1;33m=\u001b[0m \u001b[0mb\u001b[0m\u001b[1;33m.\u001b[0m\u001b[0mapply\u001b[0m\u001b[1;33m(\u001b[0m\u001b[0mf\u001b[0m\u001b[1;33m,\u001b[0m \u001b[1;33m**\u001b[0m\u001b[0mkwargs\u001b[0m\u001b[1;33m)\u001b[0m\u001b[1;33m\u001b[0m\u001b[1;33m\u001b[0m\u001b[0m\n\u001b[0;32m    426\u001b[0m                 \u001b[1;32melse\u001b[0m\u001b[1;33m:\u001b[0m\u001b[1;33m\u001b[0m\u001b[1;33m\u001b[0m\u001b[0m\n\u001b[1;32m--> 427\u001b[1;33m                     \u001b[0mapplied\u001b[0m \u001b[1;33m=\u001b[0m \u001b[0mgetattr\u001b[0m\u001b[1;33m(\u001b[0m\u001b[0mb\u001b[0m\u001b[1;33m,\u001b[0m \u001b[0mf\u001b[0m\u001b[1;33m)\u001b[0m\u001b[1;33m(\u001b[0m\u001b[1;33m**\u001b[0m\u001b[0mkwargs\u001b[0m\u001b[1;33m)\u001b[0m\u001b[1;33m\u001b[0m\u001b[1;33m\u001b[0m\u001b[0m\n\u001b[0m\u001b[0;32m    428\u001b[0m             \u001b[1;32mexcept\u001b[0m \u001b[1;33m(\u001b[0m\u001b[0mTypeError\u001b[0m\u001b[1;33m,\u001b[0m \u001b[0mNotImplementedError\u001b[0m\u001b[1;33m)\u001b[0m\u001b[1;33m:\u001b[0m\u001b[1;33m\u001b[0m\u001b[1;33m\u001b[0m\u001b[0m\n\u001b[0;32m    429\u001b[0m                 \u001b[1;32mif\u001b[0m \u001b[1;32mnot\u001b[0m \u001b[0mignore_failures\u001b[0m\u001b[1;33m:\u001b[0m\u001b[1;33m\u001b[0m\u001b[1;33m\u001b[0m\u001b[0m\n",
      "\u001b[1;32m~\\Anaconda3\\lib\\site-packages\\pandas\\core\\internals\\blocks.py\u001b[0m in \u001b[0;36mastype\u001b[1;34m(self, dtype, copy, errors)\u001b[0m\n\u001b[0;32m    624\u001b[0m \u001b[1;33m\u001b[0m\u001b[0m\n\u001b[0;32m    625\u001b[0m         \u001b[1;32mif\u001b[0m \u001b[0mdtype\u001b[0m \u001b[1;32mis\u001b[0m \u001b[1;32mnot\u001b[0m \u001b[1;32mNone\u001b[0m\u001b[1;33m:\u001b[0m\u001b[1;33m\u001b[0m\u001b[1;33m\u001b[0m\u001b[0m\n\u001b[1;32m--> 626\u001b[1;33m             \u001b[0mdtype\u001b[0m \u001b[1;33m=\u001b[0m \u001b[0mpandas_dtype\u001b[0m\u001b[1;33m(\u001b[0m\u001b[0mdtype\u001b[0m\u001b[1;33m)\u001b[0m\u001b[1;33m\u001b[0m\u001b[1;33m\u001b[0m\u001b[0m\n\u001b[0m\u001b[0;32m    627\u001b[0m \u001b[1;33m\u001b[0m\u001b[0m\n\u001b[0;32m    628\u001b[0m         \u001b[1;31m# may need to convert to categorical\u001b[0m\u001b[1;33m\u001b[0m\u001b[1;33m\u001b[0m\u001b[1;33m\u001b[0m\u001b[0m\n",
      "\u001b[1;32m~\\Anaconda3\\lib\\site-packages\\pandas\\core\\dtypes\\common.py\u001b[0m in \u001b[0;36mpandas_dtype\u001b[1;34m(dtype)\u001b[0m\n\u001b[0;32m   1797\u001b[0m     \u001b[1;31m# raise a consistent TypeError if failed\u001b[0m\u001b[1;33m\u001b[0m\u001b[1;33m\u001b[0m\u001b[1;33m\u001b[0m\u001b[0m\n\u001b[0;32m   1798\u001b[0m     \u001b[1;32mtry\u001b[0m\u001b[1;33m:\u001b[0m\u001b[1;33m\u001b[0m\u001b[1;33m\u001b[0m\u001b[0m\n\u001b[1;32m-> 1799\u001b[1;33m         \u001b[0mnpdtype\u001b[0m \u001b[1;33m=\u001b[0m \u001b[0mnp\u001b[0m\u001b[1;33m.\u001b[0m\u001b[0mdtype\u001b[0m\u001b[1;33m(\u001b[0m\u001b[0mdtype\u001b[0m\u001b[1;33m)\u001b[0m\u001b[1;33m\u001b[0m\u001b[1;33m\u001b[0m\u001b[0m\n\u001b[0m\u001b[0;32m   1800\u001b[0m     \u001b[1;32mexcept\u001b[0m \u001b[0mSyntaxError\u001b[0m \u001b[1;32mas\u001b[0m \u001b[0merr\u001b[0m\u001b[1;33m:\u001b[0m\u001b[1;33m\u001b[0m\u001b[1;33m\u001b[0m\u001b[0m\n\u001b[0;32m   1801\u001b[0m         \u001b[1;31m# np.dtype uses `eval` which can raise SyntaxError\u001b[0m\u001b[1;33m\u001b[0m\u001b[1;33m\u001b[0m\u001b[1;33m\u001b[0m\u001b[0m\n",
      "\u001b[1;31mTypeError\u001b[0m: data type 'list' not understood"
     ]
    }
   ],
   "source": [
    "# df['data.rawTranscriptions'].astype('list')"
   ]
  },
  {
   "cell_type": "code",
   "execution_count": 8,
   "id": "cb745a4b",
   "metadata": {},
   "outputs": [
    {
     "name": "stderr",
     "output_type": "stream",
     "text": [
      "<ipython-input-8-d681444ae37a>:4: FutureWarning: The default value of regex will change from True to False in a future version. In addition, single character regular expressions will*not* be treated as literal strings when regex=True.\n",
      "  df['data.rawTranscriptions'] = df['data.rawTranscriptions'].str.replace(character, \"\")\n"
     ]
    }
   ],
   "source": [
    "disallowed_characters = '[]'\n",
    "\n",
    "for character in disallowed_characters:\n",
    "    df['data.rawTranscriptions'] = df['data.rawTranscriptions'].str.replace(character, \"\") "
   ]
  },
  {
   "cell_type": "code",
   "execution_count": 10,
   "id": "3d99de9a",
   "metadata": {},
   "outputs": [
    {
     "data": {
      "text/html": [
       "<div>\n",
       "<style scoped>\n",
       "    .dataframe tbody tr th:only-of-type {\n",
       "        vertical-align: middle;\n",
       "    }\n",
       "\n",
       "    .dataframe tbody tr th {\n",
       "        vertical-align: top;\n",
       "    }\n",
       "\n",
       "    .dataframe thead th {\n",
       "        text-align: right;\n",
       "    }\n",
       "</style>\n",
       "<table border=\"1\" class=\"dataframe\">\n",
       "  <thead>\n",
       "    <tr style=\"text-align: right;\">\n",
       "      <th></th>\n",
       "      <th>data.timestamp</th>\n",
       "      <th>data.number</th>\n",
       "      <th>data.application</th>\n",
       "      <th>data.id</th>\n",
       "      <th>data.rawTranscriptions</th>\n",
       "    </tr>\n",
       "  </thead>\n",
       "  <tbody>\n",
       "    <tr>\n",
       "      <th>0</th>\n",
       "      <td>2021-08-26T17:47:13.727+0000</td>\n",
       "      <td>2039297081</td>\n",
       "      <td>ARI6</td>\n",
       "      <td>1.630000e+09</td>\n",
       "      <td>\"number to reach us\",\"simply hang up\"</td>\n",
       "    </tr>\n",
       "    <tr>\n",
       "      <th>1</th>\n",
       "      <td>2021-08-26T17:47:14.822+0000</td>\n",
       "      <td>2063627417</td>\n",
       "      <td>ARI6</td>\n",
       "      <td>1.630000e+09</td>\n",
       "      <td>\"at the tone please record your message\",\"to r...</td>\n",
       "    </tr>\n",
       "    <tr>\n",
       "      <th>2</th>\n",
       "      <td>2021-08-26T17:47:18.258+0000</td>\n",
       "      <td>2127376754</td>\n",
       "      <td>ARI7</td>\n",
       "      <td>1.630000e+09</td>\n",
       "      <td>\"hello\"</td>\n",
       "    </tr>\n",
       "    <tr>\n",
       "      <th>3</th>\n",
       "      <td>2021-08-26T17:47:18.514+0000</td>\n",
       "      <td>2524922696</td>\n",
       "      <td>ARI7</td>\n",
       "      <td>1.630000e+09</td>\n",
       "      <td>\"so it did\",\"but of what\",\"okay\"</td>\n",
       "    </tr>\n",
       "    <tr>\n",
       "      <th>4</th>\n",
       "      <td>2021-08-26T17:47:19.214+0000</td>\n",
       "      <td>2056317414</td>\n",
       "      <td>ARI6</td>\n",
       "      <td>1.630000e+09</td>\n",
       "      <td>\"right back available well pick up it back to ...</td>\n",
       "    </tr>\n",
       "  </tbody>\n",
       "</table>\n",
       "</div>"
      ],
      "text/plain": [
       "                 data.timestamp  data.number data.application       data.id  \\\n",
       "0  2021-08-26T17:47:13.727+0000   2039297081             ARI6  1.630000e+09   \n",
       "1  2021-08-26T17:47:14.822+0000   2063627417             ARI6  1.630000e+09   \n",
       "2  2021-08-26T17:47:18.258+0000   2127376754             ARI7  1.630000e+09   \n",
       "3  2021-08-26T17:47:18.514+0000   2524922696             ARI7  1.630000e+09   \n",
       "4  2021-08-26T17:47:19.214+0000   2056317414             ARI6  1.630000e+09   \n",
       "\n",
       "                              data.rawTranscriptions  \n",
       "0              \"number to reach us\",\"simply hang up\"  \n",
       "1  \"at the tone please record your message\",\"to r...  \n",
       "2                                            \"hello\"  \n",
       "3                   \"so it did\",\"but of what\",\"okay\"  \n",
       "4  \"right back available well pick up it back to ...  "
      ]
     },
     "execution_count": 10,
     "metadata": {},
     "output_type": "execute_result"
    }
   ],
   "source": [
    "df.head()"
   ]
  },
  {
   "cell_type": "code",
   "execution_count": null,
   "id": "e043e15a",
   "metadata": {},
   "outputs": [],
   "source": [
    "# df['data.rawTranscriptions'][0].split(',')"
   ]
  }
 ],
 "metadata": {
  "kernelspec": {
   "display_name": "Python 3",
   "language": "python",
   "name": "python3"
  },
  "language_info": {
   "codemirror_mode": {
    "name": "ipython",
    "version": 3
   },
   "file_extension": ".py",
   "mimetype": "text/x-python",
   "name": "python",
   "nbconvert_exporter": "python",
   "pygments_lexer": "ipython3",
   "version": "3.8.8"
  }
 },
 "nbformat": 4,
 "nbformat_minor": 5
}
