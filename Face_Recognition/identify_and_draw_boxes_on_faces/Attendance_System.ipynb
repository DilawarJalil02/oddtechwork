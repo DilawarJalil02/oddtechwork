{
 "cells": [
  {
   "cell_type": "code",
   "execution_count": 1,
   "id": "180e62a0",
   "metadata": {},
   "outputs": [],
   "source": [
    "import os\n",
    "import pickle"
   ]
  },
  {
   "cell_type": "code",
   "execution_count": 6,
   "id": "8eb6f7c1",
   "metadata": {},
   "outputs": [],
   "source": [
    "def make_embeddings(path_of_images= \"D:/one-shot/images/identity\", picklename =\"tface\" ):\n",
    "    if working_dir not in path_of_images:\n",
    "        path_of_images = os.path.join(working_dir,path_of_images)\n",
    "    images = glob(path_of_images+\"/*.jpg\")\n",
    "    identities = {}\n",
    "    known_face_encodings=[]\n",
    "    known_face_names =[]\n",
    "    error_imgs =[]\n",
    "    for img in images:\n",
    "        image = face_recognition.load_image_file(img, mode='RGB')\n",
    "        try:\n",
    "            if \"\\\\\" in img:\n",
    "                name = img.split(\"\\\\\")[-1]\n",
    "            else:\n",
    "                name = img.split(\"/\")[-1]\n",
    "#             batch_face_locations = face_recognition.batch_face_locations(images, number_of_times_to_upsample=1, batch_size=128)\n",
    "                         #  batch_size–> How many images to include in each GPU processing batch\n",
    "#             face_location = face_recognition.face_locations(image, number_of_times_to_upsample=1, model='hog/cnn')\n",
    "                        #   number_of_times_to_upsample-> Higher numbers find smaller faces.\n",
    "#             face_encoding = face_recognition.face_encodings(face_image, known_face_locations=None, num_jitters=1, model='small/large')\n",
    "                        #   num_jitters-> How many times to re-sample the face when calculating encoding.\n",
    "                        #   num_jitters-> Higher is more accurate, but slower (i.e. 100 is 100x slower)\n",
    "            face_encoding = face_recognition.face_encodings(image, model='large', num_jitters=100)[0]\n",
    "            known_face_encodings.append(face_encoding)\n",
    "            known_face_names.append(name)\n",
    "            identities[name] = face_encoding\n",
    "        except IndexError:\n",
    "            print(\"Unable to locate any faces in \", img)\n",
    "            error_imgs.append(img.split(\".\")[0].split(\"/\")[-1])\n",
    "            pass\n",
    "    data = {\"encodings\": known_face_encodings, \"names\": known_face_names}\n",
    "    pn = os.path.join(working_dir , \"assets/pickle_files/\", picklename)\n",
    "    #use pickle to save data into a file for later use\n",
    "    f = open(pn, \"wb\")\n",
    "    f.write(pickle.dumps(data))\n",
    "    f.close()\n",
    "    return error_imgs"
   ]
  },
  {
   "cell_type": "code",
   "execution_count": 10,
   "id": "911f4994",
   "metadata": {},
   "outputs": [
    {
     "ename": "NameError",
     "evalue": "name 'working_dir' is not defined",
     "output_type": "error",
     "traceback": [
      "\u001b[1;31m---------------------------------------------------------------------------\u001b[0m",
      "\u001b[1;31mNameError\u001b[0m                                 Traceback (most recent call last)",
      "\u001b[1;32m<ipython-input-10-1b3b781cfdda>\u001b[0m in \u001b[0;36m<module>\u001b[1;34m\u001b[0m\n\u001b[1;32m----> 1\u001b[1;33m \u001b[0mmake_embeddings\u001b[0m\u001b[1;33m(\u001b[0m\u001b[0mpath_of_images\u001b[0m\u001b[1;33m=\u001b[0m\u001b[1;34mr'C:\\Users\\trainee6\\Desktop\\Abdullah\\Face_Recognition\\identify_and_draw_boxes_on_faces\\trainimg'\u001b[0m\u001b[1;33m)\u001b[0m\u001b[1;33m\u001b[0m\u001b[1;33m\u001b[0m\u001b[0m\n\u001b[0m",
      "\u001b[1;32m<ipython-input-6-be38c8e29ba1>\u001b[0m in \u001b[0;36mmake_embeddings\u001b[1;34m(path_of_images, picklename)\u001b[0m\n\u001b[0;32m      1\u001b[0m \u001b[1;32mdef\u001b[0m \u001b[0mmake_embeddings\u001b[0m\u001b[1;33m(\u001b[0m\u001b[0mpath_of_images\u001b[0m\u001b[1;33m=\u001b[0m \u001b[1;34m\"D:/one-shot/images/identity\"\u001b[0m\u001b[1;33m,\u001b[0m \u001b[0mpicklename\u001b[0m \u001b[1;33m=\u001b[0m\u001b[1;34m\"tface\"\u001b[0m \u001b[1;33m)\u001b[0m\u001b[1;33m:\u001b[0m\u001b[1;33m\u001b[0m\u001b[1;33m\u001b[0m\u001b[0m\n\u001b[1;32m----> 2\u001b[1;33m     \u001b[1;32mif\u001b[0m \u001b[0mworking_dir\u001b[0m \u001b[1;32mnot\u001b[0m \u001b[1;32min\u001b[0m \u001b[0mpath_of_images\u001b[0m\u001b[1;33m:\u001b[0m\u001b[1;33m\u001b[0m\u001b[1;33m\u001b[0m\u001b[0m\n\u001b[0m\u001b[0;32m      3\u001b[0m         \u001b[0mpath_of_images\u001b[0m \u001b[1;33m=\u001b[0m \u001b[0mos\u001b[0m\u001b[1;33m.\u001b[0m\u001b[0mpath\u001b[0m\u001b[1;33m.\u001b[0m\u001b[0mjoin\u001b[0m\u001b[1;33m(\u001b[0m\u001b[0mworking_dir\u001b[0m\u001b[1;33m,\u001b[0m\u001b[0mpath_of_images\u001b[0m\u001b[1;33m)\u001b[0m\u001b[1;33m\u001b[0m\u001b[1;33m\u001b[0m\u001b[0m\n\u001b[0;32m      4\u001b[0m     \u001b[0mimages\u001b[0m \u001b[1;33m=\u001b[0m \u001b[0mglob\u001b[0m\u001b[1;33m(\u001b[0m\u001b[0mpath_of_images\u001b[0m\u001b[1;33m+\u001b[0m\u001b[1;34m\"/*.jpg\"\u001b[0m\u001b[1;33m)\u001b[0m\u001b[1;33m\u001b[0m\u001b[1;33m\u001b[0m\u001b[0m\n\u001b[0;32m      5\u001b[0m     \u001b[0midentities\u001b[0m \u001b[1;33m=\u001b[0m \u001b[1;33m{\u001b[0m\u001b[1;33m}\u001b[0m\u001b[1;33m\u001b[0m\u001b[1;33m\u001b[0m\u001b[0m\n",
      "\u001b[1;31mNameError\u001b[0m: name 'working_dir' is not defined"
     ]
    }
   ],
   "source": [
    "make_embeddings(path_of_images=r'C:\\Users\\trainee6\\Desktop\\Abdullah\\Face_Recognition\\identify_and_draw_boxes_on_faces\\trainimg')"
   ]
  },
  {
   "cell_type": "code",
   "execution_count": null,
   "id": "7eec774d",
   "metadata": {},
   "outputs": [],
   "source": [
    "# def get_companies_pickle_data():\n",
    "#     global companies_pickle_load_data\n",
    "#     companies_pickle_load_data = {}\n",
    "# #     rows = get_all_companies()\n",
    "#     for com in rows:\n",
    "#         try:\n",
    "#             if com[3]=='active':\n",
    "#                 pickle_directory =\"assets/pickle_files/\"\n",
    "#                 companyname = com[1]\n",
    "#                 picklefile = os.path.join(pickle_directory,  companyname)\n",
    "#                 data = pickle.loads(open(picklefile , \"rb\").read())\n",
    "#                 companies_pickle_load_data[companyname] = data\n",
    "#         except Exception as e:\n",
    "#             print(e)"
   ]
  },
  {
   "cell_type": "code",
   "execution_count": null,
   "id": "80467896",
   "metadata": {},
   "outputs": [],
   "source": [
    "data = companies_pickle_load_data[companyname_load]\n",
    "        known_face_encodings = data[\"encodings\"]\n",
    "        known_face_names = data[\"names\"]\n",
    "        test_img = face_recognition.load_image_file(image)\n",
    "#         os.remove(file_path)\n",
    "        face_locations_List = []\n",
    "        face_locations = face_recognition.face_locations(test_img)\n",
    "        face_locations_List.append(face_locations)\n",
    "        if len(face_locations)<1:\n",
    "            print(\"Unable to locate any faces\")\n",
    "            return_ = {\"id\": \"\",\"message\": \"Unable to locate any faces in picture . Try some other picture\", \"success\":False}\n",
    "            log_ = log_ + str(return_)\n",
    "            insert_log(log_)\n",
    "            return jsonify(return_)\n",
    "        else:\n",
    "            recognized = []\n",
    "            for faces in face_locations_List:\n",
    "#                 for face_location in face_locations:\n",
    "                for face_location in faces:\n",
    "                    unknown_face_encoding = face_recognition.face_encodings(\n",
    "                        test_img,\n",
    "                        known_face_locations=[face_location])[0]\n",
    "                    results = face_recognition.compare_faces(known_face_encodings, unknown_face_encoding, 0.48)\n",
    "#                     results = face_recognition.compare_faces(known_face_encodings, unknown_face_encoding, 0.3)\n",
    "                    try:\n",
    "                        id_ = known_face_names[results.index(np.bool_(True))]\n",
    "                    except Exception as e:\n",
    "                        print(\"Employee not recognized/ Registered\")\n",
    "                        id_ = \"None\"\n",
    "                    name = id_.split(\"\\\\\")[-1]\n",
    "                    if \".png\" in name:\n",
    "                        person= name.split(\".png\")[0]\n",
    "                    elif \".jpg\" in name:\n",
    "                        person= name.split(\".jpg\")[0]\n",
    "                    elif \".jpeg\" in name:\n",
    "                        person= name.split(\".jpeg\")[0]\n",
    "                    else:\n",
    "                        person = 'unknown'\n",
    "                    print(\"getting person from ID: \" ,person)\n",
    "                    file_path = os.path.join(temp_folder , x + f\"{person}.jpg\")\n",
    "                    image.save(file_path)\n",
    "                    recognized.append(person)\n",
    "            print(recognized)\n",
    "        try:\n",
    "            if not \".db\" in companyname:\n",
    "                companyname =companyname+\".db\"\n",
    "            print()\n",
    "            print()\n",
    "            print(f'Asking attendance for: {recognized[0]}')\n",
    "            employee_id, employee_name = confirm_attendance(companyname, recognized[0])\n",
    "            print(f\"ID: {employee_id} --- Name:{employee_name}\")"
   ]
  },
  {
   "cell_type": "code",
   "execution_count": null,
   "id": "5610283c",
   "metadata": {},
   "outputs": [],
   "source": []
  },
  {
   "cell_type": "code",
   "execution_count": null,
   "id": "c26daae1",
   "metadata": {},
   "outputs": [],
   "source": [
    "# --- 0.0159914493560791 seconds ---"
   ]
  },
  {
   "cell_type": "code",
   "execution_count": 1,
   "id": "608761d3",
   "metadata": {},
   "outputs": [
    {
     "data": {
      "text/plain": [
       "15.991449356079102"
      ]
     },
     "execution_count": 1,
     "metadata": {},
     "output_type": "execute_result"
    }
   ],
   "source": [
    "0.0159914493560791*1000"
   ]
  },
  {
   "cell_type": "code",
   "execution_count": null,
   "id": "f8bfead4",
   "metadata": {},
   "outputs": [],
   "source": []
  },
  {
   "cell_type": "code",
   "execution_count": null,
   "id": "7153d048",
   "metadata": {},
   "outputs": [],
   "source": []
  }
 ],
 "metadata": {
  "kernelspec": {
   "display_name": "Python 3",
   "language": "python",
   "name": "python3"
  },
  "language_info": {
   "codemirror_mode": {
    "name": "ipython",
    "version": 3
   },
   "file_extension": ".py",
   "mimetype": "text/x-python",
   "name": "python",
   "nbconvert_exporter": "python",
   "pygments_lexer": "ipython3",
   "version": "3.8.8"
  }
 },
 "nbformat": 4,
 "nbformat_minor": 5
}
