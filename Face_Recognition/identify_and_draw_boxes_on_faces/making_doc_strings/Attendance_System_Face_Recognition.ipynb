{
 "cells": [
  {
   "cell_type": "markdown",
   "id": "66c4d872",
   "metadata": {},
   "source": [
    "# Face Recognition"
   ]
  },
  {
   "cell_type": "code",
   "execution_count": 16,
   "id": "8737d057",
   "metadata": {},
   "outputs": [],
   "source": [
    "import face_recognition\n",
    "import numpy as np\n",
    "import pandas as pd\n",
    "import os\n",
    "import pickle\n",
    "import time"
   ]
  },
  {
   "cell_type": "code",
   "execution_count": 2,
   "id": "37bde41d",
   "metadata": {},
   "outputs": [],
   "source": [
    "employee_data = {\n",
    "                'oddTech_1':'Muhammad Ahmed Ansari',\n",
    "                'oddTech_2':'Danish Inam',\n",
    "                'oddTech_3':'Muhammad Osama Rizwan',\n",
    "                'oddTech_4':'Azim Khan',\n",
    "                'oddTech_5':'Raheel',\n",
    "                'oddTech_6':'Hasnain Ali',\n",
    "                'oddTech_7':'Zahida Naz',\n",
    "                'oddTech_8':'Arish Khan',\n",
    "                'oddTech_9':'Abdullah Bin Abdul Qadeer',\n",
    "                'oddTech_10':'Abdul Saboor',\n",
    "                'oddTech_11':'Dilawar Jalil',\n",
    "                'oddTech_12':'Sohaib Asif',\n",
    "                'oddTech_13':'Muhammad Aqib',\n",
    "                'oddTech_14':'Muhammad Owais',\n",
    "                'oddTech_15':'Muhammad Usama',\n",
    "                'oddTech_16':'Muhammad Furqan Khursheed',\n",
    "                'oddTech_17':'Farhan Asif',\n",
    "                'oddTech_18':'Ismail Ishaq',\n",
    "                'oddTech_19':'Furqan',\n",
    "                'oddTech_20':'Muhammad Zeeshan'\n",
    "                }"
   ]
  },
  {
   "cell_type": "code",
   "execution_count": 3,
   "id": "f4a46330",
   "metadata": {},
   "outputs": [],
   "source": [
    "def make_embeddings(path_of_image, picklename='tface'):\n",
    "    \"\"\"[Read and save embeddings of the images in pickle from the image directory].\n",
    "\n",
    "    Args:\n",
    "        path_of_image ([str]): [Path of the image directory].\n",
    "        picklename (str, optional): [Name of the pickle file]. Defaults to 'tface'.\n",
    "    \"\"\"    ''''''\n",
    "       \n",
    "\n",
    "    images = os.listdir(path_of_image)\n",
    "    \n",
    "    global known_face_encodings\n",
    "    global known_face_names\n",
    "    \n",
    "    known_face_encodings = []\n",
    "    known_face_names = []\n",
    "    \n",
    "    for img in images:\n",
    "        \n",
    "        image = face_recognition.load_image_file(path_of_image + '/' + img)\n",
    "        \n",
    "        face_name = img.split('.')\n",
    "        face_name = face_name[0]\n",
    "        face_encoding = face_recognition.face_encodings(image, num_jitters=100)[0]\n",
    "        \n",
    "        known_face_names.append(face_name)\n",
    "        known_face_encodings.append(face_encoding)\n",
    "    \n",
    "    data = {\"encodings\": known_face_encodings, \"names\": known_face_names}\n",
    "    pn = os.path.join(\"pickle_files/\", picklename)\n",
    "    #use pickle to save data into a file for later use\n",
    "    f = open(pn, \"wb\")\n",
    "    f.write(pickle.dumps(data))\n",
    "    f.close()"
   ]
  },
  {
   "cell_type": "code",
   "execution_count": 20,
   "id": "4aee87cc",
   "metadata": {},
   "outputs": [],
   "source": [
    "def make_predictions(path_of_image_file, path_of_pickle_file='pickle_files', name_of_pickle='tface'):\n",
    "    \"\"\"[Give an image directory, Detect the face(s) in an image and then print the Name and ID of the Employee].\n",
    "\n",
    "    Args:\n",
    "        path_of_image_file ([str]): [Path of the image directory].\n",
    "        path_of_pickle_file (str, optional): [Path of the pickle directory]. Defaults to 'pickle_files'.\n",
    "        name_of_pickle (str, optional): [Name of the pickle]. Defaults to 'tface'.\n",
    "    \"\"\"    ''''''\n",
    "    \n",
    "    \n",
    "    data_file = open(path_of_pickle_file+'/'+name_of_pickle, 'rb')     \n",
    "    data = pickle.load(data_file)\n",
    "    known_face_names = data['names']\n",
    "    known_face_encodings = data['encodings']\n",
    "    \n",
    "    images = os.listdir(path_of_image_file)\n",
    "    \n",
    "    for img in images:\n",
    "        \n",
    "        start_time = time.time()\n",
    "        \n",
    "        unknown_image = face_recognition.load_image_file(path_of_image_file + '/' + img)\n",
    "\n",
    "        face_locations = face_recognition.face_locations(unknown_image, number_of_times_to_upsample=1)\n",
    "        face_encodings = face_recognition.face_encodings(unknown_image, face_locations, num_jitters=5)\n",
    "\n",
    "        for face_encoding in face_encodings:\n",
    "            matches = face_recognition.compare_faces(known_face_encodings, face_encoding, tolerance=0.48)\n",
    "\n",
    "            name = \"Unknown\"\n",
    "\n",
    "            face_distances = face_recognition.face_distance(known_face_encodings, face_encoding)\n",
    "            best_match_index = np.argmin(face_distances)\n",
    "            \n",
    "            end_time = time.time()\n",
    "            \n",
    "            if matches[best_match_index]:\n",
    "                name = known_face_names[best_match_index]\n",
    "            \n",
    "            if name != 'Unknown':\n",
    "                print(img+'-'+employee_data[name]+'-'+name, 'Time_to_Predict: ', (end_time-start_time))\n",
    "            else:\n",
    "                print(img+'-'+name, 'Time_to_Predict: ', (end_time-start_time))\n",
    "    "
   ]
  },
  {
   "cell_type": "markdown",
   "id": "8a8ff31c",
   "metadata": {},
   "source": [
    "# Making Predictions"
   ]
  },
  {
   "cell_type": "code",
   "execution_count": 5,
   "id": "324d7074",
   "metadata": {},
   "outputs": [],
   "source": [
    "make_embeddings(r'C:\\Users\\trainee6\\Desktop\\Abdullah\\Face_Recognition\\identify_and_draw_boxes_on_faces\\train_dir')"
   ]
  },
  {
   "cell_type": "code",
   "execution_count": 21,
   "id": "72e07a6a",
   "metadata": {},
   "outputs": [
    {
     "name": "stdout",
     "output_type": "stream",
     "text": [
      "abdullah.jpg-Abdullah Bin Abdul Qadeer-oddTech_9 Time_to_Predict:  4.602792978286743\n",
      "ahemd_farhan.jpg-Muhammad Ahmed Ansari-oddTech_1 Time_to_Predict:  17.84095859527588\n",
      "ahemd_farhan.jpg-Farhan Asif-oddTech_17 Time_to_Predict:  17.842954635620117\n",
      "aqib.jpg-Muhammad Aqib-oddTech_13 Time_to_Predict:  4.721414804458618\n",
      "aqib_test.jpg-Muhammad Aqib-oddTech_13 Time_to_Predict:  4.060423851013184\n",
      "biden.jpg-Unknown Time_to_Predict:  5.732637882232666\n",
      "dilawar.jpg-Dilawar Jalil-oddTech_11 Time_to_Predict:  5.3879594802856445\n",
      "farhan.jpg-Farhan Asif-oddTech_17 Time_to_Predict:  11.833234071731567\n",
      "furqan.jpg-Muhammad Furqan Khursheed-oddTech_16 Time_to_Predict:  4.544897079467773\n",
      "junaid.jpg-Unknown Time_to_Predict:  4.024081707000732\n",
      "obama.jpg-Unknown Time_to_Predict:  4.3509321212768555\n",
      "osama.jpg-Muhammad Usama-oddTech_15 Time_to_Predict:  4.51671290397644\n",
      "owais.jpg-Muhammad Owais-oddTech_14 Time_to_Predict:  4.5031797885894775\n",
      "saboor.jpg-Abdul Saboor-oddTech_10 Time_to_Predict:  4.502793312072754\n",
      "sohaib.jpg-Sohaib Asif-oddTech_12 Time_to_Predict:  4.511781215667725\n",
      "test_image.jpg-Abdul Saboor-oddTech_10 Time_to_Predict:  18.0049991607666\n",
      "test_image.jpg-Sohaib Asif-oddTech_12 Time_to_Predict:  18.0049991607666\n",
      "test_image.jpg-Muhammad Usama-oddTech_15 Time_to_Predict:  18.005995273590088\n",
      "test_image.jpg-Muhammad Owais-oddTech_14 Time_to_Predict:  18.005995273590088\n",
      "test_image.jpg-Abdullah Bin Abdul Qadeer-oddTech_9 Time_to_Predict:  18.006994009017944\n",
      "two_people.jpg-Unknown Time_to_Predict:  7.13618803024292\n",
      "two_people.jpg-Unknown Time_to_Predict:  7.137187242507935\n"
     ]
    }
   ],
   "source": [
    "make_predictions(r'C:\\Users\\trainee6\\Desktop\\Abdullah\\Face_Recognition\\identify_and_draw_boxes_on_faces\\test_dir')"
   ]
  },
  {
   "cell_type": "markdown",
   "id": "be339b81",
   "metadata": {},
   "source": [
    "# Blurry Image Detection"
   ]
  },
  {
   "cell_type": "code",
   "execution_count": null,
   "id": "8545b5fb",
   "metadata": {},
   "outputs": [],
   "source": [
    "from imutils import paths\n",
    "import argparse\n",
    "import cv2\n",
    "import sys\n",
    "import time"
   ]
  },
  {
   "cell_type": "markdown",
   "id": "5cab9bcf",
   "metadata": {},
   "source": [
    "# Function To Detect Blurr Images"
   ]
  },
  {
   "cell_type": "code",
   "execution_count": null,
   "id": "0d8b6b87",
   "metadata": {},
   "outputs": [],
   "source": [
    "def blurr_images(imagePath):\n",
    "    \"\"\"[Give an image, Returns True if the the image is Blurr and False if the image is not Blurr].\n",
    "\n",
    "    Args:\n",
    "        imagePath ([str]): [Path of an image].\n",
    "\n",
    "    Returns:\n",
    "        [Bool]: [Returns True if the the image is Blurr and False if the image is not Blurr].\n",
    "    \"\"\"    ''''''\n",
    "\n",
    "    image = cv2.imread(imagePath)\n",
    "    gray = cv2.cvtColor(image, cv2.COLOR_BGR2GRAY)\n",
    "    fm = cv2.Laplacian(gray, cv2.CV_64F).var()\n",
    "    text = False # Not Blurry\n",
    "    if fm < 200:\n",
    "        text = True\n",
    "        return text\n",
    "    else:\n",
    "        return text"
   ]
  },
  {
   "cell_type": "markdown",
   "id": "eafc5ced",
   "metadata": {},
   "source": [
    "# Calling function"
   ]
  },
  {
   "cell_type": "code",
   "execution_count": null,
   "id": "2f591d3f",
   "metadata": {},
   "outputs": [],
   "source": [
    "\n",
    "blurr_images(\"osama.jpeg\")"
   ]
  }
 ],
 "metadata": {
  "kernelspec": {
   "display_name": "Python 3",
   "language": "python",
   "name": "python3"
  },
  "language_info": {
   "codemirror_mode": {
    "name": "ipython",
    "version": 3
   },
   "file_extension": ".py",
   "mimetype": "text/x-python",
   "name": "python",
   "nbconvert_exporter": "python",
   "pygments_lexer": "ipython3",
   "version": "3.8.8"
  }
 },
 "nbformat": 4,
 "nbformat_minor": 5
}
